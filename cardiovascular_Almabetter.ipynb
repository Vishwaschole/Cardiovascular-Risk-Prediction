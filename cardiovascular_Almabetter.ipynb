{
  "nbformat": 4,
  "nbformat_minor": 0,
  "metadata": {
    "colab": {
      "name": "cardiovascular Almabetter.ipynb",
      "provenance": [],
      "authorship_tag": "ABX9TyN2o2yS+rzoek79uXCslaT5",
      "include_colab_link": true
    },
    "kernelspec": {
      "name": "python3",
      "display_name": "Python 3"
    },
    "language_info": {
      "name": "python"
    }
  },
  "cells": [
    {
      "cell_type": "markdown",
      "metadata": {
        "id": "view-in-github",
        "colab_type": "text"
      },
      "source": [
        "<a href=\"https://colab.research.google.com/github/Vishwaschole/Cardiovascular-Risk-Prediction/blob/main/cardiovascular_Almabetter.ipynb\" target=\"_parent\"><img src=\"https://colab.research.google.com/assets/colab-badge.svg\" alt=\"Open In Colab\"/></a>"
      ]
    },
    {
      "cell_type": "markdown",
      "metadata": {
        "id": "Fg9VkfrAUw0_"
      },
      "source": [
        "# **Project Title : Cardiovascular Risk prediction**"
      ]
    },
    {
      "cell_type": "markdown",
      "metadata": {
        "id": "mn4RPjMFsizl"
      },
      "source": [
        "### The dataset is from an ongoing cardiovascular study on residents of the town of Framingham, Massachusetts. The classification goal is to predict whether the patient has a 10-year risk of future coronary heart disease (CHD). The dataset provides the patients’ information. It includes over 3390 records and 15 attributes.\n"
      ]
    },
    {
      "cell_type": "markdown",
      "metadata": {
        "id": "hDcu8qrwuqy6"
      },
      "source": [
        "# **Data Description**\n",
        "Demographic:\n",
        "\n",
        "\n",
        "*   Sex: male or female(\"M\" or \"F\")\n",
        "*   Age: Age of the patient;(Continuous - Although the recorded ages have been truncated to whole numbers, the concept of age is continuous) Behavioral\n",
        "*   Is_smoking: whether or not the patient is a current smoker (\"YES\" or \"NO\")\n",
        "*   Cigs Per Day: the number of cigarettes that the person smoked on average in one day.(can be considered continuous as one can have any number of cigarettes, even half a cigarette.) Medical( history)\n",
        "*   BP Meds: whether or not the patient was on blood pressure medication (Nominal)\n",
        "*   Prevalent Stroke: whether or not the patient had previously had a stroke (Nominal)\n",
        "*   Prevalent Hyp: whether or not the patient was hypertensive (Nominal)\n",
        "*   Diabetes: whether or not the patient had diabetes (Nominal)\n",
        "Medical(current)\n",
        "*   Tot Chol: total cholesterol level (Continuous)\n",
        "*   Sys BP: systolic blood pressure (Continuous)\n",
        "*   Dia BP: diastolic blood pressure (Continuous)\n",
        "*   BMI: Body Mass Index (Continuous)\n",
        "*   Heart Rate: heart rate (Continuous - In medical research, variables such as heart rate though in\n",
        "fact discrete, yet are considered continuous because of large number of possible values.)\n",
        "*   Glucose: glucose level (Continuous)\n",
        "Predict variable (desired target)\n",
        "*   **10-year risk of coronary heart disease CHD(binary: “1”, means “Yes”, “0” means “No”) - DV**\n",
        "\n",
        "\n",
        "\n"
      ]
    },
    {
      "cell_type": "markdown",
      "metadata": {
        "id": "MyuuDamMXI_1"
      },
      "source": [
        "![cardiovascular.jfif](data:image/jpeg;base64,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)"
      ]
    },
    {
      "cell_type": "markdown",
      "metadata": {
        "id": "tK9qQfyAV7Io"
      },
      "source": [
        "# **Problem Description**"
      ]
    },
    {
      "cell_type": "code",
      "metadata": {
        "colab": {
          "base_uri": "https://localhost:8080/"
        },
        "id": "Bt1-AjEGUWdZ",
        "outputId": "e69841f7-9954-4780-c342-9afcb0138cc1"
      },
      "source": [
        "from google.colab import drive\n",
        "drive.mount('/content/drive')"
      ],
      "execution_count": 19,
      "outputs": [
        {
          "output_type": "stream",
          "name": "stdout",
          "text": [
            "Drive already mounted at /content/drive; to attempt to forcibly remount, call drive.mount(\"/content/drive\", force_remount=True).\n"
          ]
        }
      ]
    },
    {
      "cell_type": "markdown",
      "metadata": {
        "id": "tg2ZOKqwXrXE"
      },
      "source": [
        "## **Importing the libraries**"
      ]
    },
    {
      "cell_type": "code",
      "metadata": {
        "id": "OiQJrvWpYA3c"
      },
      "source": [
        "import pandas as pd\n",
        "import numpy as np\n",
        "import matplotlib.pyplot as plt\n",
        "plt.style.use('ggplot')\n",
        "import seaborn as sns\n",
        "import warnings\n",
        "warnings.filterwarnings('ignore')\n",
        "\n",
        "from sklearn.preprocessing import LabelEncoder\n",
        "from sklearn.tree import DecisionTreeClassifier, export_graphviz\n",
        "from sklearn import tree\n",
        "from IPython.display import SVG\n",
        "from graphviz import Source\n",
        "from IPython.display import display\n",
        "from sklearn.ensemble import RandomForestClassifier\n",
        "from sklearn.ensemble import GradientBoostingClassifier\n",
        "from sklearn.model_selection import GridSearchCV\n",
        "from sklearn.metrics import roc_auc_score, confusion_matrix, accuracy_score, roc_curve\n",
        "from sklearn.neighbors import KNeighborsClassifier\n",
        "from sklearn.svm import SVC"
      ],
      "execution_count": 20,
      "outputs": []
    },
    {
      "cell_type": "code",
      "metadata": {
        "id": "fkTJGOWHYGTE"
      },
      "source": [
        "df=pd.read_csv('/content/drive/MyDrive/Copy of data_cardiovascular_risk.csv')"
      ],
      "execution_count": 21,
      "outputs": []
    },
    {
      "cell_type": "code",
      "metadata": {
        "colab": {
          "base_uri": "https://localhost:8080/",
          "height": 224
        },
        "id": "hxCsgQFfYhda",
        "outputId": "bf0cd672-bf2d-42ed-8a7c-9053616519c5"
      },
      "source": [
        "df.head()"
      ],
      "execution_count": 22,
      "outputs": [
        {
          "output_type": "execute_result",
          "data": {
            "text/html": [
              "<div>\n",
              "<style scoped>\n",
              "    .dataframe tbody tr th:only-of-type {\n",
              "        vertical-align: middle;\n",
              "    }\n",
              "\n",
              "    .dataframe tbody tr th {\n",
              "        vertical-align: top;\n",
              "    }\n",
              "\n",
              "    .dataframe thead th {\n",
              "        text-align: right;\n",
              "    }\n",
              "</style>\n",
              "<table border=\"1\" class=\"dataframe\">\n",
              "  <thead>\n",
              "    <tr style=\"text-align: right;\">\n",
              "      <th></th>\n",
              "      <th>id</th>\n",
              "      <th>age</th>\n",
              "      <th>education</th>\n",
              "      <th>sex</th>\n",
              "      <th>is_smoking</th>\n",
              "      <th>cigsPerDay</th>\n",
              "      <th>BPMeds</th>\n",
              "      <th>prevalentStroke</th>\n",
              "      <th>prevalentHyp</th>\n",
              "      <th>diabetes</th>\n",
              "      <th>totChol</th>\n",
              "      <th>sysBP</th>\n",
              "      <th>diaBP</th>\n",
              "      <th>BMI</th>\n",
              "      <th>heartRate</th>\n",
              "      <th>glucose</th>\n",
              "      <th>TenYearCHD</th>\n",
              "    </tr>\n",
              "  </thead>\n",
              "  <tbody>\n",
              "    <tr>\n",
              "      <th>0</th>\n",
              "      <td>0</td>\n",
              "      <td>64</td>\n",
              "      <td>2.0</td>\n",
              "      <td>F</td>\n",
              "      <td>YES</td>\n",
              "      <td>3.0</td>\n",
              "      <td>0.0</td>\n",
              "      <td>0</td>\n",
              "      <td>0</td>\n",
              "      <td>0</td>\n",
              "      <td>221.0</td>\n",
              "      <td>148.0</td>\n",
              "      <td>85.0</td>\n",
              "      <td>NaN</td>\n",
              "      <td>90.0</td>\n",
              "      <td>80.0</td>\n",
              "      <td>1</td>\n",
              "    </tr>\n",
              "    <tr>\n",
              "      <th>1</th>\n",
              "      <td>1</td>\n",
              "      <td>36</td>\n",
              "      <td>4.0</td>\n",
              "      <td>M</td>\n",
              "      <td>NO</td>\n",
              "      <td>0.0</td>\n",
              "      <td>0.0</td>\n",
              "      <td>0</td>\n",
              "      <td>1</td>\n",
              "      <td>0</td>\n",
              "      <td>212.0</td>\n",
              "      <td>168.0</td>\n",
              "      <td>98.0</td>\n",
              "      <td>29.77</td>\n",
              "      <td>72.0</td>\n",
              "      <td>75.0</td>\n",
              "      <td>0</td>\n",
              "    </tr>\n",
              "    <tr>\n",
              "      <th>2</th>\n",
              "      <td>2</td>\n",
              "      <td>46</td>\n",
              "      <td>1.0</td>\n",
              "      <td>F</td>\n",
              "      <td>YES</td>\n",
              "      <td>10.0</td>\n",
              "      <td>0.0</td>\n",
              "      <td>0</td>\n",
              "      <td>0</td>\n",
              "      <td>0</td>\n",
              "      <td>250.0</td>\n",
              "      <td>116.0</td>\n",
              "      <td>71.0</td>\n",
              "      <td>20.35</td>\n",
              "      <td>88.0</td>\n",
              "      <td>94.0</td>\n",
              "      <td>0</td>\n",
              "    </tr>\n",
              "    <tr>\n",
              "      <th>3</th>\n",
              "      <td>3</td>\n",
              "      <td>50</td>\n",
              "      <td>1.0</td>\n",
              "      <td>M</td>\n",
              "      <td>YES</td>\n",
              "      <td>20.0</td>\n",
              "      <td>0.0</td>\n",
              "      <td>0</td>\n",
              "      <td>1</td>\n",
              "      <td>0</td>\n",
              "      <td>233.0</td>\n",
              "      <td>158.0</td>\n",
              "      <td>88.0</td>\n",
              "      <td>28.26</td>\n",
              "      <td>68.0</td>\n",
              "      <td>94.0</td>\n",
              "      <td>1</td>\n",
              "    </tr>\n",
              "    <tr>\n",
              "      <th>4</th>\n",
              "      <td>4</td>\n",
              "      <td>64</td>\n",
              "      <td>1.0</td>\n",
              "      <td>F</td>\n",
              "      <td>YES</td>\n",
              "      <td>30.0</td>\n",
              "      <td>0.0</td>\n",
              "      <td>0</td>\n",
              "      <td>0</td>\n",
              "      <td>0</td>\n",
              "      <td>241.0</td>\n",
              "      <td>136.5</td>\n",
              "      <td>85.0</td>\n",
              "      <td>26.42</td>\n",
              "      <td>70.0</td>\n",
              "      <td>77.0</td>\n",
              "      <td>0</td>\n",
              "    </tr>\n",
              "  </tbody>\n",
              "</table>\n",
              "</div>"
            ],
            "text/plain": [
              "   id  age  education sex  ...    BMI  heartRate  glucose  TenYearCHD\n",
              "0   0   64        2.0   F  ...    NaN       90.0     80.0           1\n",
              "1   1   36        4.0   M  ...  29.77       72.0     75.0           0\n",
              "2   2   46        1.0   F  ...  20.35       88.0     94.0           0\n",
              "3   3   50        1.0   M  ...  28.26       68.0     94.0           1\n",
              "4   4   64        1.0   F  ...  26.42       70.0     77.0           0\n",
              "\n",
              "[5 rows x 17 columns]"
            ]
          },
          "metadata": {},
          "execution_count": 22
        }
      ]
    },
    {
      "cell_type": "code",
      "metadata": {
        "colab": {
          "base_uri": "https://localhost:8080/",
          "height": 224
        },
        "id": "NTKa8X89Y-N-",
        "outputId": "9940cd99-a053-477d-a289-17cefb6dc931"
      },
      "source": [
        "df.tail()"
      ],
      "execution_count": 23,
      "outputs": [
        {
          "output_type": "execute_result",
          "data": {
            "text/html": [
              "<div>\n",
              "<style scoped>\n",
              "    .dataframe tbody tr th:only-of-type {\n",
              "        vertical-align: middle;\n",
              "    }\n",
              "\n",
              "    .dataframe tbody tr th {\n",
              "        vertical-align: top;\n",
              "    }\n",
              "\n",
              "    .dataframe thead th {\n",
              "        text-align: right;\n",
              "    }\n",
              "</style>\n",
              "<table border=\"1\" class=\"dataframe\">\n",
              "  <thead>\n",
              "    <tr style=\"text-align: right;\">\n",
              "      <th></th>\n",
              "      <th>id</th>\n",
              "      <th>age</th>\n",
              "      <th>education</th>\n",
              "      <th>sex</th>\n",
              "      <th>is_smoking</th>\n",
              "      <th>cigsPerDay</th>\n",
              "      <th>BPMeds</th>\n",
              "      <th>prevalentStroke</th>\n",
              "      <th>prevalentHyp</th>\n",
              "      <th>diabetes</th>\n",
              "      <th>totChol</th>\n",
              "      <th>sysBP</th>\n",
              "      <th>diaBP</th>\n",
              "      <th>BMI</th>\n",
              "      <th>heartRate</th>\n",
              "      <th>glucose</th>\n",
              "      <th>TenYearCHD</th>\n",
              "    </tr>\n",
              "  </thead>\n",
              "  <tbody>\n",
              "    <tr>\n",
              "      <th>3385</th>\n",
              "      <td>3385</td>\n",
              "      <td>60</td>\n",
              "      <td>1.0</td>\n",
              "      <td>F</td>\n",
              "      <td>NO</td>\n",
              "      <td>0.0</td>\n",
              "      <td>0.0</td>\n",
              "      <td>0</td>\n",
              "      <td>0</td>\n",
              "      <td>0</td>\n",
              "      <td>261.0</td>\n",
              "      <td>123.5</td>\n",
              "      <td>79.0</td>\n",
              "      <td>29.28</td>\n",
              "      <td>70.0</td>\n",
              "      <td>103.0</td>\n",
              "      <td>0</td>\n",
              "    </tr>\n",
              "    <tr>\n",
              "      <th>3386</th>\n",
              "      <td>3386</td>\n",
              "      <td>46</td>\n",
              "      <td>1.0</td>\n",
              "      <td>F</td>\n",
              "      <td>NO</td>\n",
              "      <td>0.0</td>\n",
              "      <td>0.0</td>\n",
              "      <td>0</td>\n",
              "      <td>0</td>\n",
              "      <td>0</td>\n",
              "      <td>199.0</td>\n",
              "      <td>102.0</td>\n",
              "      <td>56.0</td>\n",
              "      <td>21.96</td>\n",
              "      <td>80.0</td>\n",
              "      <td>84.0</td>\n",
              "      <td>0</td>\n",
              "    </tr>\n",
              "    <tr>\n",
              "      <th>3387</th>\n",
              "      <td>3387</td>\n",
              "      <td>44</td>\n",
              "      <td>3.0</td>\n",
              "      <td>M</td>\n",
              "      <td>YES</td>\n",
              "      <td>3.0</td>\n",
              "      <td>0.0</td>\n",
              "      <td>0</td>\n",
              "      <td>1</td>\n",
              "      <td>0</td>\n",
              "      <td>352.0</td>\n",
              "      <td>164.0</td>\n",
              "      <td>119.0</td>\n",
              "      <td>28.92</td>\n",
              "      <td>73.0</td>\n",
              "      <td>72.0</td>\n",
              "      <td>1</td>\n",
              "    </tr>\n",
              "    <tr>\n",
              "      <th>3388</th>\n",
              "      <td>3388</td>\n",
              "      <td>60</td>\n",
              "      <td>1.0</td>\n",
              "      <td>M</td>\n",
              "      <td>NO</td>\n",
              "      <td>0.0</td>\n",
              "      <td>NaN</td>\n",
              "      <td>0</td>\n",
              "      <td>1</td>\n",
              "      <td>0</td>\n",
              "      <td>191.0</td>\n",
              "      <td>167.0</td>\n",
              "      <td>105.0</td>\n",
              "      <td>23.01</td>\n",
              "      <td>80.0</td>\n",
              "      <td>85.0</td>\n",
              "      <td>0</td>\n",
              "    </tr>\n",
              "    <tr>\n",
              "      <th>3389</th>\n",
              "      <td>3389</td>\n",
              "      <td>54</td>\n",
              "      <td>3.0</td>\n",
              "      <td>F</td>\n",
              "      <td>NO</td>\n",
              "      <td>0.0</td>\n",
              "      <td>0.0</td>\n",
              "      <td>0</td>\n",
              "      <td>0</td>\n",
              "      <td>0</td>\n",
              "      <td>288.0</td>\n",
              "      <td>124.0</td>\n",
              "      <td>77.0</td>\n",
              "      <td>29.88</td>\n",
              "      <td>79.0</td>\n",
              "      <td>92.0</td>\n",
              "      <td>0</td>\n",
              "    </tr>\n",
              "  </tbody>\n",
              "</table>\n",
              "</div>"
            ],
            "text/plain": [
              "        id  age  education sex  ...    BMI  heartRate  glucose  TenYearCHD\n",
              "3385  3385   60        1.0   F  ...  29.28       70.0    103.0           0\n",
              "3386  3386   46        1.0   F  ...  21.96       80.0     84.0           0\n",
              "3387  3387   44        3.0   M  ...  28.92       73.0     72.0           1\n",
              "3388  3388   60        1.0   M  ...  23.01       80.0     85.0           0\n",
              "3389  3389   54        3.0   F  ...  29.88       79.0     92.0           0\n",
              "\n",
              "[5 rows x 17 columns]"
            ]
          },
          "metadata": {},
          "execution_count": 23
        }
      ]
    },
    {
      "cell_type": "code",
      "metadata": {
        "colab": {
          "base_uri": "https://localhost:8080/"
        },
        "id": "Fy2Gh53NaflM",
        "outputId": "5f703f67-8ce3-44c5-a486-d52973a15b5b"
      },
      "source": [
        "df.info()"
      ],
      "execution_count": 24,
      "outputs": [
        {
          "output_type": "stream",
          "name": "stdout",
          "text": [
            "<class 'pandas.core.frame.DataFrame'>\n",
            "RangeIndex: 3390 entries, 0 to 3389\n",
            "Data columns (total 17 columns):\n",
            " #   Column           Non-Null Count  Dtype  \n",
            "---  ------           --------------  -----  \n",
            " 0   id               3390 non-null   int64  \n",
            " 1   age              3390 non-null   int64  \n",
            " 2   education        3303 non-null   float64\n",
            " 3   sex              3390 non-null   object \n",
            " 4   is_smoking       3390 non-null   object \n",
            " 5   cigsPerDay       3368 non-null   float64\n",
            " 6   BPMeds           3346 non-null   float64\n",
            " 7   prevalentStroke  3390 non-null   int64  \n",
            " 8   prevalentHyp     3390 non-null   int64  \n",
            " 9   diabetes         3390 non-null   int64  \n",
            " 10  totChol          3352 non-null   float64\n",
            " 11  sysBP            3390 non-null   float64\n",
            " 12  diaBP            3390 non-null   float64\n",
            " 13  BMI              3376 non-null   float64\n",
            " 14  heartRate        3389 non-null   float64\n",
            " 15  glucose          3086 non-null   float64\n",
            " 16  TenYearCHD       3390 non-null   int64  \n",
            "dtypes: float64(9), int64(6), object(2)\n",
            "memory usage: 450.4+ KB\n"
          ]
        }
      ]
    },
    {
      "cell_type": "code",
      "metadata": {
        "colab": {
          "base_uri": "https://localhost:8080/"
        },
        "id": "l4FaYo3_cDsR",
        "outputId": "45088099-db01-478c-d445-51edf73e728c"
      },
      "source": [
        "df.isnull().sum()"
      ],
      "execution_count": 25,
      "outputs": [
        {
          "output_type": "execute_result",
          "data": {
            "text/plain": [
              "id                   0\n",
              "age                  0\n",
              "education           87\n",
              "sex                  0\n",
              "is_smoking           0\n",
              "cigsPerDay          22\n",
              "BPMeds              44\n",
              "prevalentStroke      0\n",
              "prevalentHyp         0\n",
              "diabetes             0\n",
              "totChol             38\n",
              "sysBP                0\n",
              "diaBP                0\n",
              "BMI                 14\n",
              "heartRate            1\n",
              "glucose            304\n",
              "TenYearCHD           0\n",
              "dtype: int64"
            ]
          },
          "metadata": {},
          "execution_count": 25
        }
      ]
    },
    {
      "cell_type": "code",
      "metadata": {
        "id": "usEb5_BQi9M5"
      },
      "source": [
        "# Before Altering the Data copying orinal data\n",
        "df_copy=df.copy()"
      ],
      "execution_count": 26,
      "outputs": []
    },
    {
      "cell_type": "code",
      "metadata": {
        "colab": {
          "base_uri": "https://localhost:8080/"
        },
        "id": "viGNpmK1iflC",
        "outputId": "21ddea5c-589a-4d20-994d-065f7030eff7"
      },
      "source": [
        "# Missing Value Count Function\n",
        "def show_missing():\n",
        "    missing = df_copy.columns[df_copy.isnull().any()].tolist()\n",
        "    return missing\n",
        "\n",
        "# Missing data counts and percentage\n",
        "print('Missing Data Count')\n",
        "print(df_copy[show_missing()].isnull().sum().sort_values(ascending = False))\n",
        "print('--'*50)\n",
        "print('Missing Data Percentage')\n",
        "print(round(df_copy[show_missing()].isnull().sum().sort_values(ascending = False)/len(df_copy)*100,2))"
      ],
      "execution_count": 27,
      "outputs": [
        {
          "output_type": "stream",
          "name": "stdout",
          "text": [
            "Missing Data Count\n",
            "glucose       304\n",
            "education      87\n",
            "BPMeds         44\n",
            "totChol        38\n",
            "cigsPerDay     22\n",
            "BMI            14\n",
            "heartRate       1\n",
            "dtype: int64\n",
            "----------------------------------------------------------------------------------------------------\n",
            "Missing Data Percentage\n",
            "glucose       8.97\n",
            "education     2.57\n",
            "BPMeds        1.30\n",
            "totChol       1.12\n",
            "cigsPerDay    0.65\n",
            "BMI           0.41\n",
            "heartRate     0.03\n",
            "dtype: float64\n"
          ]
        }
      ]
    },
    {
      "cell_type": "code",
      "metadata": {
        "colab": {
          "base_uri": "https://localhost:8080/",
          "height": 317
        },
        "id": "MU47xssndMVQ",
        "outputId": "b3538442-1658-4e2b-ff56-5d6914dd51cd"
      },
      "source": [
        "df.describe()"
      ],
      "execution_count": 28,
      "outputs": [
        {
          "output_type": "execute_result",
          "data": {
            "text/html": [
              "<div>\n",
              "<style scoped>\n",
              "    .dataframe tbody tr th:only-of-type {\n",
              "        vertical-align: middle;\n",
              "    }\n",
              "\n",
              "    .dataframe tbody tr th {\n",
              "        vertical-align: top;\n",
              "    }\n",
              "\n",
              "    .dataframe thead th {\n",
              "        text-align: right;\n",
              "    }\n",
              "</style>\n",
              "<table border=\"1\" class=\"dataframe\">\n",
              "  <thead>\n",
              "    <tr style=\"text-align: right;\">\n",
              "      <th></th>\n",
              "      <th>id</th>\n",
              "      <th>age</th>\n",
              "      <th>education</th>\n",
              "      <th>cigsPerDay</th>\n",
              "      <th>BPMeds</th>\n",
              "      <th>prevalentStroke</th>\n",
              "      <th>prevalentHyp</th>\n",
              "      <th>diabetes</th>\n",
              "      <th>totChol</th>\n",
              "      <th>sysBP</th>\n",
              "      <th>diaBP</th>\n",
              "      <th>BMI</th>\n",
              "      <th>heartRate</th>\n",
              "      <th>glucose</th>\n",
              "      <th>TenYearCHD</th>\n",
              "    </tr>\n",
              "  </thead>\n",
              "  <tbody>\n",
              "    <tr>\n",
              "      <th>count</th>\n",
              "      <td>3390.000000</td>\n",
              "      <td>3390.000000</td>\n",
              "      <td>3303.000000</td>\n",
              "      <td>3368.000000</td>\n",
              "      <td>3346.000000</td>\n",
              "      <td>3390.000000</td>\n",
              "      <td>3390.000000</td>\n",
              "      <td>3390.000000</td>\n",
              "      <td>3352.000000</td>\n",
              "      <td>3390.00000</td>\n",
              "      <td>3390.000000</td>\n",
              "      <td>3376.000000</td>\n",
              "      <td>3389.000000</td>\n",
              "      <td>3086.000000</td>\n",
              "      <td>3390.000000</td>\n",
              "    </tr>\n",
              "    <tr>\n",
              "      <th>mean</th>\n",
              "      <td>1694.500000</td>\n",
              "      <td>49.542183</td>\n",
              "      <td>1.970936</td>\n",
              "      <td>9.069477</td>\n",
              "      <td>0.029886</td>\n",
              "      <td>0.006490</td>\n",
              "      <td>0.315339</td>\n",
              "      <td>0.025664</td>\n",
              "      <td>237.074284</td>\n",
              "      <td>132.60118</td>\n",
              "      <td>82.883038</td>\n",
              "      <td>25.794964</td>\n",
              "      <td>75.977279</td>\n",
              "      <td>82.086520</td>\n",
              "      <td>0.150737</td>\n",
              "    </tr>\n",
              "    <tr>\n",
              "      <th>std</th>\n",
              "      <td>978.753033</td>\n",
              "      <td>8.592878</td>\n",
              "      <td>1.019081</td>\n",
              "      <td>11.879078</td>\n",
              "      <td>0.170299</td>\n",
              "      <td>0.080309</td>\n",
              "      <td>0.464719</td>\n",
              "      <td>0.158153</td>\n",
              "      <td>45.247430</td>\n",
              "      <td>22.29203</td>\n",
              "      <td>12.023581</td>\n",
              "      <td>4.115449</td>\n",
              "      <td>11.971868</td>\n",
              "      <td>24.244753</td>\n",
              "      <td>0.357846</td>\n",
              "    </tr>\n",
              "    <tr>\n",
              "      <th>min</th>\n",
              "      <td>0.000000</td>\n",
              "      <td>32.000000</td>\n",
              "      <td>1.000000</td>\n",
              "      <td>0.000000</td>\n",
              "      <td>0.000000</td>\n",
              "      <td>0.000000</td>\n",
              "      <td>0.000000</td>\n",
              "      <td>0.000000</td>\n",
              "      <td>107.000000</td>\n",
              "      <td>83.50000</td>\n",
              "      <td>48.000000</td>\n",
              "      <td>15.960000</td>\n",
              "      <td>45.000000</td>\n",
              "      <td>40.000000</td>\n",
              "      <td>0.000000</td>\n",
              "    </tr>\n",
              "    <tr>\n",
              "      <th>25%</th>\n",
              "      <td>847.250000</td>\n",
              "      <td>42.000000</td>\n",
              "      <td>1.000000</td>\n",
              "      <td>0.000000</td>\n",
              "      <td>0.000000</td>\n",
              "      <td>0.000000</td>\n",
              "      <td>0.000000</td>\n",
              "      <td>0.000000</td>\n",
              "      <td>206.000000</td>\n",
              "      <td>117.00000</td>\n",
              "      <td>74.500000</td>\n",
              "      <td>23.020000</td>\n",
              "      <td>68.000000</td>\n",
              "      <td>71.000000</td>\n",
              "      <td>0.000000</td>\n",
              "    </tr>\n",
              "    <tr>\n",
              "      <th>50%</th>\n",
              "      <td>1694.500000</td>\n",
              "      <td>49.000000</td>\n",
              "      <td>2.000000</td>\n",
              "      <td>0.000000</td>\n",
              "      <td>0.000000</td>\n",
              "      <td>0.000000</td>\n",
              "      <td>0.000000</td>\n",
              "      <td>0.000000</td>\n",
              "      <td>234.000000</td>\n",
              "      <td>128.50000</td>\n",
              "      <td>82.000000</td>\n",
              "      <td>25.380000</td>\n",
              "      <td>75.000000</td>\n",
              "      <td>78.000000</td>\n",
              "      <td>0.000000</td>\n",
              "    </tr>\n",
              "    <tr>\n",
              "      <th>75%</th>\n",
              "      <td>2541.750000</td>\n",
              "      <td>56.000000</td>\n",
              "      <td>3.000000</td>\n",
              "      <td>20.000000</td>\n",
              "      <td>0.000000</td>\n",
              "      <td>0.000000</td>\n",
              "      <td>1.000000</td>\n",
              "      <td>0.000000</td>\n",
              "      <td>264.000000</td>\n",
              "      <td>144.00000</td>\n",
              "      <td>90.000000</td>\n",
              "      <td>28.040000</td>\n",
              "      <td>83.000000</td>\n",
              "      <td>87.000000</td>\n",
              "      <td>0.000000</td>\n",
              "    </tr>\n",
              "    <tr>\n",
              "      <th>max</th>\n",
              "      <td>3389.000000</td>\n",
              "      <td>70.000000</td>\n",
              "      <td>4.000000</td>\n",
              "      <td>70.000000</td>\n",
              "      <td>1.000000</td>\n",
              "      <td>1.000000</td>\n",
              "      <td>1.000000</td>\n",
              "      <td>1.000000</td>\n",
              "      <td>696.000000</td>\n",
              "      <td>295.00000</td>\n",
              "      <td>142.500000</td>\n",
              "      <td>56.800000</td>\n",
              "      <td>143.000000</td>\n",
              "      <td>394.000000</td>\n",
              "      <td>1.000000</td>\n",
              "    </tr>\n",
              "  </tbody>\n",
              "</table>\n",
              "</div>"
            ],
            "text/plain": [
              "                id          age  ...      glucose   TenYearCHD\n",
              "count  3390.000000  3390.000000  ...  3086.000000  3390.000000\n",
              "mean   1694.500000    49.542183  ...    82.086520     0.150737\n",
              "std     978.753033     8.592878  ...    24.244753     0.357846\n",
              "min       0.000000    32.000000  ...    40.000000     0.000000\n",
              "25%     847.250000    42.000000  ...    71.000000     0.000000\n",
              "50%    1694.500000    49.000000  ...    78.000000     0.000000\n",
              "75%    2541.750000    56.000000  ...    87.000000     0.000000\n",
              "max    3389.000000    70.000000  ...   394.000000     1.000000\n",
              "\n",
              "[8 rows x 15 columns]"
            ]
          },
          "metadata": {},
          "execution_count": 28
        }
      ]
    },
    {
      "cell_type": "code",
      "metadata": {
        "id": "O9de1-cMdY50"
      },
      "source": [
        "#size of graph\n",
        "plt.rcParams[\"figure.figsize\"] = [10,6]"
      ],
      "execution_count": 29,
      "outputs": []
    },
    {
      "cell_type": "code",
      "metadata": {
        "colab": {
          "base_uri": "https://localhost:8080/",
          "height": 408
        },
        "id": "U-u2Gsfcd6db",
        "outputId": "1fbdec9c-3018-4f5a-c9de-42c93f0eb190"
      },
      "source": [
        "sns.countplot(df.age)\n",
        "plt.xlabel(\"Age\")\n",
        "plt.ylabel(\"Number of people\")\n",
        "plt.title(\"Age group\")\n",
        "plt.show()"
      ],
      "execution_count": 30,
      "outputs": [
        {
          "output_type": "display_data",
          "data": {
            "image/png": "[encoded data removed]",
            "text/plain": [
              "<Figure size 720x432 with 1 Axes>"
            ]
          },
          "metadata": {}
        }
      ]
    },
    {
      "cell_type": "code",
      "metadata": {
        "colab": {
          "base_uri": "https://localhost:8080/",
          "height": 391
        },
        "id": "2PplKfuJenLr",
        "outputId": "8eb2ed26-a728-4d72-9d02-882e77178dd3"
      },
      "source": [
        "sns.countplot(df.education)\n",
        "plt.xlabel(\"Education\")\n",
        "plt.ylabel(\"Number of people\")\n",
        "plt.show()"
      ],
      "execution_count": 31,
      "outputs": [
        {
          "output_type": "display_data",
          "data": {
            "image/png": "[encoded data removed]",
            "text/plain": [
              "<Figure size 720x432 with 1 Axes>"
            ]
          },
          "metadata": {}
        }
      ]
    },
    {
      "cell_type": "markdown",
      "metadata": {
        "id": "2R25cBy_ezr2"
      },
      "source": [
        "### **smoking vs number of people**"
      ]
    },
    {
      "cell_type": "code",
      "metadata": {
        "colab": {
          "base_uri": "https://localhost:8080/",
          "height": 391
        },
        "id": "Xc2qwkltew9z",
        "outputId": "2bd397c3-83c8-4cd1-a653-fe828fede409"
      },
      "source": [
        "sns.countplot(df.is_smoking)\n",
        "plt.xlabel(\"Is smoking\")\n",
        "plt.ylabel(\"Number of people\")\n",
        "plt.show()"
      ],
      "execution_count": 32,
      "outputs": [
        {
          "output_type": "display_data",
          "data": {
            "image/png": "[encoded data removed]",
            "text/plain": [
              "<Figure size 720x432 with 1 Axes>"
            ]
          },
          "metadata": {}
        }
      ]
    },
    {
      "cell_type": "markdown",
      "metadata": {
        "id": "ir_3bsC-hg8D"
      },
      "source": [
        "## **CigsperDay**"
      ]
    },
    {
      "cell_type": "code",
      "metadata": {
        "colab": {
          "base_uri": "https://localhost:8080/",
          "height": 391
        },
        "id": "GRsWTZOwhBPj",
        "outputId": "fc376a0f-b717-48b9-f637-7b247cfa853b"
      },
      "source": [
        "sns.distplot(df.cigsPerDay)\n",
        "plt.xlabel(\"Cigrattes per Day\")\n",
        "#plt.ylabel(\"Number of people\")\n",
        "plt.show()"
      ],
      "execution_count": 33,
      "outputs": [
        {
          "output_type": "display_data",
          "data": {
            "image/png": "[encoded data removed]",
            "text/plain": [
              "<Figure size 720x432 with 1 Axes>"
            ]
          },
          "metadata": {}
        }
      ]
    },
    {
      "cell_type": "code",
      "metadata": {
        "colab": {
          "base_uri": "https://localhost:8080/",
          "height": 391
        },
        "id": "dEepyPFrhvNm",
        "outputId": "4f8ccb94-f550-4b8d-bc9f-cd676bd98619"
      },
      "source": [
        "sns.distplot(np.log1p(df.cigsPerDay))\n",
        "plt.xlabel(\"Cigrattes per Day\")\n",
        "#plt.ylabel(\"Number of people\")\n",
        "plt.show()"
      ],
      "execution_count": 34,
      "outputs": [
        {
          "output_type": "display_data",
          "data": {
            "image/png": "[encoded data removed]",
            "text/plain": [
              "<Figure size 720x432 with 1 Axes>"
            ]
          },
          "metadata": {}
        }
      ]
    },
    {
      "cell_type": "code",
      "metadata": {
        "colab": {
          "base_uri": "https://localhost:8080/",
          "height": 391
        },
        "id": "8vGsRNK_iKNx",
        "outputId": "1877ca00-5ac3-4b00-cbd2-d55109355550"
      },
      "source": [
        "plt.rcParams[\"figure.figsize\"] = [15,6]\n",
        "sns.countplot(df.cigsPerDay)\n",
        "plt.xlabel(\"Cigrattes per Day\")\n",
        "#plt.ylabel(\"Number of people\")\n",
        "plt.show()"
      ],
      "execution_count": 35,
      "outputs": [
        {
          "output_type": "display_data",
          "data": {
            "image/png": "[encoded data removed]",
            "text/plain": [
              "<Figure size 1080x432 with 1 Axes>"
            ]
          },
          "metadata": {}
        }
      ]
    },
    {
      "cell_type": "markdown",
      "metadata": {
        "id": "_Mi8ec2ijSuA"
      },
      "source": [
        "## **BPmeds**"
      ]
    },
    {
      "cell_type": "code",
      "metadata": {
        "colab": {
          "base_uri": "https://localhost:8080/",
          "height": 391
        },
        "id": "iOLZd4ZJTYK7",
        "outputId": "2ff3b6df-394c-4946-843d-9eb85a34163c"
      },
      "source": [
        "plt.rcParams[\"figure.figsize\"] = [8,6]\n",
        "sns.countplot(df.BPMeds)\n",
        "plt.xlabel(\"BP Meds\")\n",
        "plt.show()"
      ],
      "execution_count": 36,
      "outputs": [
        {
          "output_type": "display_data",
          "data": {
            "image/png": "[encoded data removed]",
            "text/plain": [
              "<Figure size 576x432 with 1 Axes>"
            ]
          },
          "metadata": {}
        }
      ]
    },
    {
      "cell_type": "markdown",
      "metadata": {
        "id": "uLB2Ava8jfMI"
      },
      "source": [
        "# **Prevalent Strokes**"
      ]
    },
    {
      "cell_type": "code",
      "metadata": {
        "colab": {
          "base_uri": "https://localhost:8080/",
          "height": 392
        },
        "id": "K4fKJVZHlHg5",
        "outputId": "78825b38-af69-4247-8d54-2db96f7c8cfb"
      },
      "source": [
        "sns.countplot(df.prevalentStroke)\n",
        "plt.xlabel(\"Prevalent Stroke\")\n",
        "plt.show()"
      ],
      "execution_count": 37,
      "outputs": [
        {
          "output_type": "display_data",
          "data": {
            "image/png": "[encoded data removed]",
            "text/plain": [
              "<Figure size 576x432 with 1 Axes>"
            ]
          },
          "metadata": {}
        }
      ]
    }
  ]
}